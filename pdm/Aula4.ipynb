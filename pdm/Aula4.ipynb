{
  "nbformat": 4,
  "nbformat_minor": 0,
  "metadata": {
    "colab": {
      "name": "Aula4.ipynb",
      "provenance": []
    },
    "kernelspec": {
      "name": "python3",
      "display_name": "Python 3"
    }
  },
  "cells": [
    {
      "cell_type": "markdown",
      "metadata": {
        "id": "ynceoz2CTbU-"
      },
      "source": [
        "***Tópicos da Aula 4***\n",
        "\n",
        "1) Strings\n",
        "\n",
        "2) Indexação"
      ]
    },
    {
      "cell_type": "markdown",
      "metadata": {
        "id": "_OK-jVLXT2y-"
      },
      "source": [
        "----------------------------------------------------------\n",
        "**Strings** = O dados do tipo String são utilizados na linguagem Python quando se trabalha com armazenamento de informações no formato de texto. Na linguagem de programação Python as Strings são uma sequência de caracteres e, o Python domina cada elemento pertencente a sequência. \n",
        "\n",
        "String é uma sequência imutável de caracteres ou somente 1 caracter.\n",
        "\n",
        "(Ex.: \"Estou escrevendo uma string\")\n",
        "\n",
        "(Ex.: \"a\")\n",
        "\n",
        "**Indexação** = O Python utiliza a indexação para localizar/chamar parte da sequência.\n",
        "\n",
        "(Ex.:)\n",
        "a = \"Programação para dispositivos móveis\"\n",
        "\n",
        "a[0] = P\n",
        "\n",
        "a[1] = r\n",
        "\n",
        "a[2] = o\n",
        "\n",
        "----------------------------------------------------------\n",
        "\n",
        "**Imutabilidade = isso quer dizer que na linguagem Python ao criar uma String, os elementos pertecentes a ela não podem ser alterados.**\n",
        "\n",
        "----------------------------------------------------------\n",
        "\n",
        "O Python é uma linguagem orientada a objetos e para acessar os atributos e métodos utilizamos o ponto (.)\n",
        "\n",
        "\n",
        "*   objeto.atributo\n",
        "*   objeto.metodo()\n",
        "*   objeto.metodo(parâmetro)\n"
      ]
    },
    {
      "cell_type": "markdown",
      "metadata": {
        "id": "T9ZZTTC2mnlT"
      },
      "source": [
        "***Criando Strings***\n",
        "\n",
        "A criação de strings em Python pode ser feita tanto com aspas simples quanto com aspas duplas."
      ]
    },
    {
      "cell_type": "code",
      "metadata": {
        "id": "20DAKKH0WAOt"
      },
      "source": [
        "# utilizando apenas a string\n",
        "'Olá mundo'"
      ],
      "execution_count": null,
      "outputs": []
    },
    {
      "cell_type": "code",
      "metadata": {
        "id": "kyM8nP-WWMqN"
      },
      "source": [
        "# utilizando uma frase\n",
        "'Do Senhor é a terra e a sua plenitude, o mundo e aqueles que nele habitam. (Salmos 24)'"
      ],
      "execution_count": null,
      "outputs": []
    },
    {
      "cell_type": "code",
      "metadata": {
        "id": "eJXmI4c0WVB1"
      },
      "source": [
        "# podemos utilizar também as aspas duplas\n",
        "\"Você pode optar por aspas simples ou duplas\""
      ],
      "execution_count": null,
      "outputs": []
    },
    {
      "cell_type": "code",
      "metadata": {
        "id": "612JR4-_Wamh"
      },
      "source": [
        "# podemos combinar elas\n",
        "\"Eu amo programar em 'Python' todos os dias\""
      ],
      "execution_count": null,
      "outputs": []
    },
    {
      "cell_type": "markdown",
      "metadata": {
        "id": "mLHe-3-QXF53"
      },
      "source": [
        "***Imprimindo uma string na tela***"
      ]
    },
    {
      "cell_type": "code",
      "metadata": {
        "id": "5dTStp4PXKam"
      },
      "source": [
        "print(\"Eu estou imprimindo uma String\")"
      ],
      "execution_count": null,
      "outputs": []
    },
    {
      "cell_type": "code",
      "metadata": {
        "id": "m1emoqg5XTWe"
      },
      "source": [
        "print(\"Eu estou \\ntestando \\nStrings em Python\")"
      ],
      "execution_count": null,
      "outputs": []
    },
    {
      "cell_type": "code",
      "metadata": {
        "id": "qAoAVNuoodDt"
      },
      "source": [
        "print('\\nOlá turma ;D ')"
      ],
      "execution_count": null,
      "outputs": []
    },
    {
      "cell_type": "markdown",
      "metadata": {
        "id": "ogGb_wWxXkQM"
      },
      "source": [
        "***Trabalhando com indexação em Python***"
      ]
    },
    {
      "cell_type": "code",
      "metadata": {
        "id": "1K2VY-wFXpOc"
      },
      "source": [
        "# atribuindo uma string a uma variável\n",
        "a = \"Universidade Federal do Oeste do Pará\""
      ],
      "execution_count": null,
      "outputs": []
    },
    {
      "cell_type": "code",
      "metadata": {
        "id": "Pu_TwFX1XthA"
      },
      "source": [
        "print(a)"
      ],
      "execution_count": null,
      "outputs": []
    },
    {
      "cell_type": "code",
      "metadata": {
        "id": "Fh8YxVlcXxaE"
      },
      "source": [
        "# retornando o primeiro elemento da string\n",
        "a[0]"
      ],
      "execution_count": null,
      "outputs": []
    },
    {
      "cell_type": "code",
      "metadata": {
        "id": "_mgrEc0Pz8yg"
      },
      "source": [
        "a[1]"
      ],
      "execution_count": null,
      "outputs": []
    },
    {
      "cell_type": "code",
      "metadata": {
        "id": "_5H9TNNxz-qK"
      },
      "source": [
        "a[2]"
      ],
      "execution_count": null,
      "outputs": []
    },
    {
      "cell_type": "markdown",
      "metadata": {
        "id": "9y-9SauUpwnF"
      },
      "source": [
        "***Trabalhando com slicing***"
      ]
    },
    {
      "cell_type": "code",
      "metadata": {
        "id": "ZfhCtdhqX3OW"
      },
      "source": [
        "# Retorna todos os elementos de uma string, começando pela posição \n",
        "# até o fim da string\n",
        "a[:1]"
      ],
      "execution_count": null,
      "outputs": []
    },
    {
      "cell_type": "code",
      "metadata": {
        "id": "k1j9Jz7S0cgc"
      },
      "source": [
        "# mesmo ao utilizar o slicing a estrutura da string permanece inalterada\n",
        "a"
      ],
      "execution_count": null,
      "outputs": []
    },
    {
      "cell_type": "code",
      "metadata": {
        "id": "V82-TsQM0oCp"
      },
      "source": [
        "# Retorna todos os elementos até a posição 3 da string\n",
        "a[:3]"
      ],
      "execution_count": null,
      "outputs": []
    },
    {
      "cell_type": "code",
      "metadata": {
        "id": "Hm1UIpHs0p8x"
      },
      "source": [
        "a[:]"
      ],
      "execution_count": null,
      "outputs": []
    },
    {
      "cell_type": "code",
      "metadata": {
        "id": "YAKS4IxO023F"
      },
      "source": [
        "# o slicing também pode ser usado de forma reversa, iniciando do fim para o início\n",
        "a[-1]"
      ],
      "execution_count": null,
      "outputs": []
    },
    {
      "cell_type": "code",
      "metadata": {
        "id": "CpnTd2Ra1MXz"
      },
      "source": [
        "# retorna todos os elementos da string, exceto a última letra\n",
        "a[:-1]"
      ],
      "execution_count": null,
      "outputs": []
    },
    {
      "cell_type": "code",
      "metadata": {
        "id": "Fzs7_bnx1vcm"
      },
      "source": [
        "a[::1]"
      ],
      "execution_count": null,
      "outputs": []
    },
    {
      "cell_type": "code",
      "metadata": {
        "id": "iaPezDlF1xYX"
      },
      "source": [
        "a[::2]"
      ],
      "execution_count": null,
      "outputs": []
    },
    {
      "cell_type": "code",
      "metadata": {
        "id": "DwVIHEQR1ywx"
      },
      "source": [
        "a[::-1]"
      ],
      "execution_count": null,
      "outputs": []
    },
    {
      "cell_type": "markdown",
      "metadata": {
        "id": "zk8KOBZvYJlr"
      },
      "source": [
        "***Propriedades de Strings em Python***"
      ]
    },
    {
      "cell_type": "code",
      "metadata": {
        "id": "6HZB1MkoYMHI"
      },
      "source": [
        "a"
      ],
      "execution_count": null,
      "outputs": []
    },
    {
      "cell_type": "code",
      "metadata": {
        "id": "yLP5-vuW2qBd"
      },
      "source": [
        "a[0] = \"O\""
      ],
      "execution_count": null,
      "outputs": []
    },
    {
      "cell_type": "code",
      "metadata": {
        "id": "mla9felb2xgw"
      },
      "source": [
        "# concatenando strings em Python\n",
        "a + \" é uma instituição governamental que trabalha para promover o ensino, pesquisa e extensão.\""
      ],
      "execution_count": null,
      "outputs": []
    },
    {
      "cell_type": "code",
      "metadata": {
        "id": "24u-p7oL3Dsd"
      },
      "source": [
        "a = a + \" Campus Oriximiná possui dois cursos: BSI e BCB.\""
      ],
      "execution_count": null,
      "outputs": []
    },
    {
      "cell_type": "code",
      "metadata": {
        "id": "zULuycQo3Rt1"
      },
      "source": [
        "a"
      ],
      "execution_count": null,
      "outputs": []
    },
    {
      "cell_type": "code",
      "metadata": {
        "id": "VAlD2K2L3ktu"
      },
      "source": [
        "# podemos criar repetição através do símbolo da multiplicação\n",
        "palavra = \"Corinthians\""
      ],
      "execution_count": null,
      "outputs": []
    },
    {
      "cell_type": "code",
      "metadata": {
        "id": "9Xoy3wD63vZM"
      },
      "source": [
        "palavra * 3"
      ],
      "execution_count": null,
      "outputs": []
    },
    {
      "cell_type": "markdown",
      "metadata": {
        "id": "p88flAoTYZ5L"
      },
      "source": [
        "***Funções Built-in de strings***"
      ]
    },
    {
      "cell_type": "code",
      "metadata": {
        "id": "Kt2Oa_sQYf7s"
      },
      "source": [
        "a"
      ],
      "execution_count": null,
      "outputs": []
    },
    {
      "cell_type": "code",
      "metadata": {
        "id": "vcSPPkCHYjSb"
      },
      "source": [
        "# podemos tornar toda nossa string de forma maiúscula\n",
        "a.upper()"
      ],
      "execution_count": null,
      "outputs": []
    },
    {
      "cell_type": "code",
      "metadata": {
        "id": "xWOlEuOdYszd"
      },
      "source": [
        "# podemos tornar toda nossa string de forma minúscula\n",
        "a.lower()"
      ],
      "execution_count": null,
      "outputs": []
    },
    {
      "cell_type": "code",
      "metadata": {
        "id": "JZgX5eA74MLo"
      },
      "source": [
        "# dividir uma string por espaços em branco (padrão)\n",
        "a.split()"
      ],
      "execution_count": null,
      "outputs": []
    },
    {
      "cell_type": "code",
      "metadata": {
        "id": "GcBRQnEb4XCW"
      },
      "source": [
        "# dividir uma string por um elemento específico\n",
        "a.split('e')"
      ],
      "execution_count": null,
      "outputs": []
    },
    {
      "cell_type": "markdown",
      "metadata": {
        "id": "r_qkOgtHY4KH"
      },
      "source": [
        "***Funções para Strings em Python***"
      ]
    },
    {
      "cell_type": "code",
      "metadata": {
        "id": "hof8OmvQY-hw"
      },
      "source": [
        "b = 'olá alunos (as)! Estão aprendendo Python?'"
      ],
      "execution_count": null,
      "outputs": []
    },
    {
      "cell_type": "code",
      "metadata": {
        "id": "Lnl30QztZD9j"
      },
      "source": [
        "b.capitalize()"
      ],
      "execution_count": null,
      "outputs": []
    },
    {
      "cell_type": "code",
      "metadata": {
        "id": "HyILkv1aZIS6"
      },
      "source": [
        "b.count('a')"
      ],
      "execution_count": null,
      "outputs": []
    },
    {
      "cell_type": "code",
      "metadata": {
        "id": "IND4S0Qh5GyY"
      },
      "source": [
        "b.find('p')"
      ],
      "execution_count": null,
      "outputs": []
    },
    {
      "cell_type": "code",
      "metadata": {
        "id": "OQyNSq8n5LUf"
      },
      "source": [
        "b.endswith('e')"
      ],
      "execution_count": null,
      "outputs": []
    },
    {
      "cell_type": "code",
      "metadata": {
        "id": "2Ij2ORW15Nq_"
      },
      "source": [
        "b.isspace()"
      ],
      "execution_count": null,
      "outputs": []
    },
    {
      "cell_type": "markdown",
      "metadata": {
        "id": "7G19oMGn5o7T"
      },
      "source": [
        "***Comparando Strings em Python***"
      ]
    },
    {
      "cell_type": "code",
      "metadata": {
        "id": "c1SKHnwt5siY"
      },
      "source": [
        "print(\"Python\" == \"R\")"
      ],
      "execution_count": null,
      "outputs": []
    },
    {
      "cell_type": "code",
      "metadata": {
        "id": "w1qssi7s5yJs"
      },
      "source": [
        "print(\"Python\" == \"Python\")"
      ],
      "execution_count": null,
      "outputs": []
    },
    {
      "cell_type": "markdown",
      "metadata": {
        "id": "k3vZjrNgZjYD"
      },
      "source": [
        "Caderno python criado por: Prof. Raimundo Júnior\n",
        "\n",
        "Data: 14 Nov 2020"
      ]
    }
  ]
}