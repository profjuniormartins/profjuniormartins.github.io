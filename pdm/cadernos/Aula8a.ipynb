{
  "nbformat": 4,
  "nbformat_minor": 0,
  "metadata": {
    "colab": {
      "name": "Aula8.ipynb",
      "provenance": []
    },
    "kernelspec": {
      "name": "python3",
      "display_name": "Python 3"
    }
  },
  "cells": [
    {
      "cell_type": "markdown",
      "metadata": {
        "id": "ynceoz2CTbU-"
      },
      "source": [
        "***Tópicos da Aula 8***\n",
        "\n",
        "1) Loops\n",
        "\n",
        "2) Condicionais\n",
        "\n",
        "3) Métodos e\n",
        "\n",
        "4) funções\n",
        "\n",
        "----------------------------------------------------------\n",
        "\n",
        "* Estruturas condicionais If, Else e Elif\n",
        "* Estruturas de repetição\n",
        "* Métodos\n",
        "* Funções\n",
        "* Outras operações\n",
        "\n"
      ]
    },
    {
      "cell_type": "markdown",
      "metadata": {
        "id": "_OK-jVLXT2y-"
      },
      "source": [
        "----------------------------------------------------------\n",
        "**IF** = essa estrutura condicional permite que o programador informe a máquina (computador, notebook, etc) para executar determinadas ações conforme o resultado proveniente da entrada e processamento dos dados.\n",
        "\n",
        "Um exemplo do nosso cotidiano seria tipo:\n",
        "\n",
        "**\"O meu time vencerá se fizer mais gols que o adversário.\"**\n",
        "\n",
        "----------------------------------------------------------"
      ]
    },
    {
      "cell_type": "code",
      "metadata": {
        "id": "k8v9_2av5SmW"
      },
      "source": [
        "corinthians = 3\n",
        "spfc = 3\n",
        "if(corinthians > spfc):\n",
        "  print(\"O Corinthians fez\", corinthians ,\"gols e venceu\")\n",
        "else:\n",
        "  print(\"O São Paulo fez\", spfc ,\"gols e venceu\")"
      ],
      "execution_count": null,
      "outputs": []
    },
    {
      "cell_type": "code",
      "metadata": {
        "id": "cPNoaRAj7ePr"
      },
      "source": [
        "flamengo = 3\n",
        "vasco = 4\n",
        "if(flamengo > vasco):\n",
        "  print(\"O Flamengo fez\", flamengo ,\"gols e venceu\")\n",
        "elif(flamengo < vasco):\n",
        "  print(\"O Vasco fez\", vasco ,\"gols e venceu\")\n",
        "else:\n",
        "  print(\"O jogo ficou empate\")"
      ],
      "execution_count": null,
      "outputs": []
    },
    {
      "cell_type": "markdown",
      "metadata": {
        "id": "9VWNVxo091xP"
      },
      "source": [
        "***Sobre indentação***\n",
        "\n",
        "É importante mencionar que é necessário ter uma boa compreensão sobre essa funcionalidade quando se trabalha com estrutura condicionais."
      ]
    },
    {
      "cell_type": "markdown",
      "metadata": {
        "id": "T9ZZTTC2mnlT"
      },
      "source": [
        "***Utilizando a estrutura condicional if***"
      ]
    },
    {
      "cell_type": "code",
      "metadata": {
        "id": "20DAKKH0WAOt"
      },
      "source": [
        "# condicional if\n",
        "if 10>2:\n",
        "  print(\"Condição é satisfeita\")"
      ],
      "execution_count": null,
      "outputs": []
    },
    {
      "cell_type": "code",
      "metadata": {
        "id": "kyM8nP-WWMqN"
      },
      "source": [
        "# Utilizando as estruturas if e else\n",
        "if 10>2:\n",
        "  print(\"1ª condição é satisfeita\")\n",
        "else:\n",
        "  print(\"2ª condição é satisfeita\")"
      ],
      "execution_count": null,
      "outputs": []
    },
    {
      "cell_type": "code",
      "metadata": {
        "id": "612JR4-_Wamh"
      },
      "source": [
        "6>3"
      ],
      "execution_count": null,
      "outputs": []
    },
    {
      "cell_type": "code",
      "metadata": {
        "id": "iIZcYNCUQheV"
      },
      "source": [
        "13<6"
      ],
      "execution_count": null,
      "outputs": []
    },
    {
      "cell_type": "code",
      "metadata": {
        "id": "U5jXVGyDQmVE"
      },
      "source": [
        "7>=6"
      ],
      "execution_count": null,
      "outputs": []
    },
    {
      "cell_type": "code",
      "metadata": {
        "id": "gQ54JFtfQwl6"
      },
      "source": [
        "if(\"UFOPA\" == \"UFOPA\"):\n",
        "  print(\"Palavras iguais\")\n",
        "else:\n",
        "  print(\"Palavras diferentes\")"
      ],
      "execution_count": null,
      "outputs": []
    },
    {
      "cell_type": "code",
      "metadata": {
        "id": "046i12z8Pkxk"
      },
      "source": [
        "if(\"Python\" == \"Java\"):\n",
        "  print(\"Palavras iguais\")\n",
        "else:\n",
        "  print(\"Palavras diferentes\")"
      ],
      "execution_count": null,
      "outputs": []
    },
    {
      "cell_type": "markdown",
      "metadata": {
        "id": "cv8HHR_iAdZU"
      },
      "source": [
        "***Utilizando estruturas condicionais aninhadas***"
      ]
    },
    {
      "cell_type": "code",
      "metadata": {
        "id": "Onrjx24TQ8dF"
      },
      "source": [
        "idade = 17\n",
        "if idade >= 16:\n",
        "  print(\"Você já pode votar\")"
      ],
      "execution_count": null,
      "outputs": []
    },
    {
      "cell_type": "code",
      "metadata": {
        "id": "FRN7BhGyPMu6"
      },
      "source": [
        "idade = 17\n",
        "nome = \"Alice\"\n",
        "if idade >= 16 and nome == \"Alice\":\n",
        "  print(\"Olá Alice, você pode votar\")\n",
        "else:\n",
        "  print(\"Olá Alice, você ainda não pode votar\")"
      ],
      "execution_count": null,
      "outputs": []
    },
    {
      "cell_type": "markdown",
      "metadata": {
        "id": "CJgPTfjTCtVa"
      },
      "source": [
        "***Utilizando estruturas condicionais com elif***"
      ]
    },
    {
      "cell_type": "code",
      "metadata": {
        "id": "vtNNAL13DuED"
      },
      "source": [
        "estacao = \"Outono\"\n",
        "if estacao == \"Inverno\":\n",
        "  print(\"Hoje irá chover\")\n",
        "else:\n",
        "  print(\"Hoje fará sol\")"
      ],
      "execution_count": null,
      "outputs": []
    },
    {
      "cell_type": "code",
      "metadata": {
        "id": "rKmbE8PhCqv0"
      },
      "source": [
        "estacao1 = \"Outono\"\n",
        "if estacao1 == \"Inverno\":\n",
        "  print(\"Hoje irá chover\")\n",
        "elif estacao1 == \"Verão\":\n",
        "  print(\"Hoje fará sol\")\n",
        "elif estacao1 == \"Outono\":\n",
        "  print(\"Hoje as folhas irão cair\")\n",
        "else:\n",
        "  print(\"Sem previsão de tempo\")"
      ],
      "execution_count": null,
      "outputs": []
    },
    {
      "cell_type": "markdown",
      "metadata": {
        "id": "gm6Jl6guETwA"
      },
      "source": [
        "***Utilizando Operadores lógicos***"
      ]
    },
    {
      "cell_type": "code",
      "metadata": {
        "id": "bn25_3pfEXnT"
      },
      "source": [
        "idade = 16\n",
        "nome = \"Bob\"\n",
        "if idade >= 16:\n",
        "  print(\"Você pode votar\")"
      ],
      "execution_count": null,
      "outputs": []
    },
    {
      "cell_type": "code",
      "metadata": {
        "id": "iw1-mJxcFIPR"
      },
      "source": [
        "idade = 18\n",
        "nome = \"Bob\"\n",
        "if idade >= 18 and nome == \"Bob\":\n",
        "  print(\"Autorizado\")"
      ],
      "execution_count": null,
      "outputs": []
    },
    {
      "cell_type": "code",
      "metadata": {
        "id": "loPGpWIpFZFF"
      },
      "source": [
        "# Utilizando mais de uma condição na cláusula if\n",
        "disciplina = input(\"Digite o nome da disciplina: \")\n",
        "nota1 = float(input(\"Digite a 1ª nota: \"))\n",
        "nota2 = float(input(\"Digite a 2ª nota: \"))\n",
        "nota3 = float(input(\"Digite a 3ª nota: \"))\n",
        "mediaFinal = (nota1 + nota2 + nota3) / 3\n",
        "\n",
        "print(\"\\nSua média final é: \", mediaFinal,\"\\n\")\n",
        "if disciplina == \"Redes\" and mediaFinal >= 5:\n",
        "  print(\"Você foi aprovado\")\n",
        "else:\n",
        "  print(\"Lamento mas você está reprovado\")"
      ],
      "execution_count": null,
      "outputs": []
    },
    {
      "cell_type": "code",
      "metadata": {
        "id": "jTf6hTvbH-ZE"
      },
      "source": [
        "# Utilizando mais de uma condição na cláusula if e adicionando placeholders\n",
        "disciplina = input(\"Digite o nome da disciplina: \")\n",
        "nota1 = float(input(\"Digite a 1ª nota: \"))\n",
        "nota2 = float(input(\"Digite a 2ª nota: \"))\n",
        "nota3 = float(input(\"Digite a 3ª nota: \"))\n",
        "mediaFinal = (nota1 + nota2 + nota3) / 3\n",
        "\n",
        "if disciplina == \"Redes\" and mediaFinal >= 5:\n",
        "  print(\"Você foi aprovado com média {:.1f}\".format(mediaFinal))\n",
        "else:\n",
        "  print(\"Lamento mas você está reprovado\")"
      ],
      "execution_count": null,
      "outputs": []
    },
    {
      "cell_type": "markdown",
      "metadata": {
        "id": "k3vZjrNgZjYD"
      },
      "source": [
        "Caderno python criado por: Prof. Raimundo Júnior\n",
        "\n",
        "Data: 21 Nov 2020"
      ]
    }
  ]
}