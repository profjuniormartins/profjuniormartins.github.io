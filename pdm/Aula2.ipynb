{
  "nbformat": 4,
  "nbformat_minor": 0,
  "metadata": {
    "colab": {
      "name": "Aula 2",
      "provenance": []
    },
    "kernelspec": {
      "name": "python3",
      "display_name": "Python 3"
    }
  },
  "cells": [
    {
      "cell_type": "markdown",
      "metadata": {
        "id": "ynceoz2CTbU-"
      },
      "source": [
        "***Tópicos da Aula 2***\n",
        "\n",
        "1) Tipos de número em Python\n",
        "\n",
        "2) Funções e operações com números\n",
        "\n",
        "3) Aritmética\n",
        "\n",
        "4) Operadores"
      ]
    },
    {
      "cell_type": "markdown",
      "metadata": {
        "id": "_OK-jVLXT2y-"
      },
      "source": [
        "----------------------------------------------------------\n",
        "int = números Inteiros, sendo eles positivos ou negativos. (Ex.: -7 e 7)\n",
        "\n",
        "float = números fracionários, positivos ou negativos. (Ex.: -7.1 e 7.1)\n",
        "\n",
        "----------------------------------------------------------\n",
        "Função ***type()*** é utilizada para saber qual o tipo de determinado número.\n",
        "\n",
        "Função ***int()*** e ***float()*** é utilizada para converter números de um tipo para outro.\n",
        "\n",
        "Funções ***Bult-in*** (Pesquisar em https://docs.python.org/3/library/functions.html)\n"
      ]
    },
    {
      "cell_type": "code",
      "metadata": {
        "id": "20DAKKH0WAOt"
      },
      "source": [
        "#Soma\n",
        "2 + 2"
      ],
      "execution_count": null,
      "outputs": []
    },
    {
      "cell_type": "code",
      "metadata": {
        "id": "kyM8nP-WWMqN"
      },
      "source": [
        "#Subtração\n",
        "10 - 5"
      ],
      "execution_count": null,
      "outputs": []
    },
    {
      "cell_type": "code",
      "metadata": {
        "id": "eJXmI4c0WVB1"
      },
      "source": [
        "#Multiplicação\n",
        "5 * 2"
      ],
      "execution_count": null,
      "outputs": []
    },
    {
      "cell_type": "code",
      "metadata": {
        "id": "612JR4-_Wamh"
      },
      "source": [
        "#Divisão\n",
        "18 / 3"
      ],
      "execution_count": null,
      "outputs": []
    },
    {
      "cell_type": "code",
      "metadata": {
        "id": "eLAQmjzpWbY_"
      },
      "source": [
        "#Potência\n",
        "4 ** 2"
      ],
      "execution_count": null,
      "outputs": []
    },
    {
      "cell_type": "code",
      "metadata": {
        "id": "ohEXE_eWWcXv"
      },
      "source": [
        "#Módulo\n",
        "12 % 2"
      ],
      "execution_count": null,
      "outputs": []
    },
    {
      "cell_type": "markdown",
      "metadata": {
        "id": "mLHe-3-QXF53"
      },
      "source": [
        "***Função Type***"
      ]
    },
    {
      "cell_type": "code",
      "metadata": {
        "id": "5dTStp4PXKam"
      },
      "source": [
        "type(12)"
      ],
      "execution_count": null,
      "outputs": []
    },
    {
      "cell_type": "code",
      "metadata": {
        "id": "m1emoqg5XTWe"
      },
      "source": [
        "type(5.5)"
      ],
      "execution_count": null,
      "outputs": []
    },
    {
      "cell_type": "code",
      "metadata": {
        "id": "ymELSb1sXVVX"
      },
      "source": [
        "UFOPA = \"Universidade Federal do Oeste do Pará\"\n",
        "type(UFOPA)\n",
        "print(UFOPA)"
      ],
      "execution_count": null,
      "outputs": []
    },
    {
      "cell_type": "markdown",
      "metadata": {
        "id": "ogGb_wWxXkQM"
      },
      "source": [
        "***Operações com números float***"
      ]
    },
    {
      "cell_type": "code",
      "metadata": {
        "id": "1K2VY-wFXpOc"
      },
      "source": [
        "4.2 + 3.4"
      ],
      "execution_count": null,
      "outputs": []
    },
    {
      "cell_type": "code",
      "metadata": {
        "id": "Pu_TwFX1XthA"
      },
      "source": [
        "4 + 4.0"
      ],
      "execution_count": null,
      "outputs": []
    },
    {
      "cell_type": "code",
      "metadata": {
        "id": "Fh8YxVlcXxaE"
      },
      "source": [
        "#Saída é um número float\n",
        "5 / 2"
      ],
      "execution_count": null,
      "outputs": []
    },
    {
      "cell_type": "code",
      "metadata": {
        "id": "ZfhCtdhqX3OW"
      },
      "source": [
        "#Resultado é um número inteiro\n",
        "5 // 2"
      ],
      "execution_count": null,
      "outputs": []
    },
    {
      "cell_type": "code",
      "metadata": {
        "id": "wRSkVrT0X_Wm"
      },
      "source": [
        "5 / 2.2"
      ],
      "execution_count": null,
      "outputs": []
    },
    {
      "cell_type": "code",
      "metadata": {
        "id": "qpA5ysrXYGX5"
      },
      "source": [
        "5 // 2.2"
      ],
      "execution_count": null,
      "outputs": []
    },
    {
      "cell_type": "markdown",
      "metadata": {
        "id": "zk8KOBZvYJlr"
      },
      "source": [
        "***Conversão de números***"
      ]
    },
    {
      "cell_type": "code",
      "metadata": {
        "id": "6HZB1MkoYMHI"
      },
      "source": [
        "float(12)"
      ],
      "execution_count": null,
      "outputs": []
    },
    {
      "cell_type": "code",
      "metadata": {
        "id": "E8-A6cAnYOh5"
      },
      "source": [
        "int(2.0)"
      ],
      "execution_count": null,
      "outputs": []
    },
    {
      "cell_type": "code",
      "metadata": {
        "id": "7ETB8-7wYQPT"
      },
      "source": [
        "int(5.5)"
      ],
      "execution_count": null,
      "outputs": []
    },
    {
      "cell_type": "markdown",
      "metadata": {
        "id": "p88flAoTYZ5L"
      },
      "source": [
        "***Números hexadecimais e binários***"
      ]
    },
    {
      "cell_type": "code",
      "metadata": {
        "id": "Kt2Oa_sQYf7s"
      },
      "source": [
        "hex(366)"
      ],
      "execution_count": null,
      "outputs": []
    },
    {
      "cell_type": "code",
      "metadata": {
        "id": "vcSPPkCHYjSb"
      },
      "source": [
        "hex(411)"
      ],
      "execution_count": null,
      "outputs": []
    },
    {
      "cell_type": "code",
      "metadata": {
        "id": "xWOlEuOdYszd"
      },
      "source": [
        "bin(366)"
      ],
      "execution_count": null,
      "outputs": []
    },
    {
      "cell_type": "code",
      "metadata": {
        "id": "5bMlCDfrYwrd"
      },
      "source": [
        "bin(192)"
      ],
      "execution_count": null,
      "outputs": []
    },
    {
      "cell_type": "markdown",
      "metadata": {
        "id": "r_qkOgtHY4KH"
      },
      "source": [
        "***Funções complementares (abs, round e pow)***"
      ]
    },
    {
      "cell_type": "code",
      "metadata": {
        "id": "hof8OmvQY-hw"
      },
      "source": [
        "#Retorna o valor de um número de forma absoluta\n",
        "abs(-10)"
      ],
      "execution_count": null,
      "outputs": []
    },
    {
      "cell_type": "code",
      "metadata": {
        "id": "Lnl30QztZD9j"
      },
      "source": [
        "#Retorna o valor de um número de forma absoluta\n",
        "abs(10)"
      ],
      "execution_count": null,
      "outputs": []
    },
    {
      "cell_type": "code",
      "metadata": {
        "id": "HyILkv1aZIS6"
      },
      "source": [
        "#Retorna o valor de um número de forma arredondada\n",
        "round(3.14159265359)"
      ],
      "execution_count": null,
      "outputs": []
    },
    {
      "cell_type": "code",
      "metadata": {
        "id": "wCsWyf2EZV56"
      },
      "source": [
        "#Potência\n",
        "pow(5,2)"
      ],
      "execution_count": null,
      "outputs": []
    },
    {
      "cell_type": "markdown",
      "metadata": {
        "id": "k3vZjrNgZjYD"
      },
      "source": [
        "Caderno python criado por: Prof. Raimundo Júnior\n",
        "\n",
        "Data: 11 Nov 2020"
      ]
    }
  ]
}