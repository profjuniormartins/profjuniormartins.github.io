{
  "nbformat": 4,
  "nbformat_minor": 0,
  "metadata": {
    "colab": {
      "name": "Aula3.ipynb",
      "provenance": []
    },
    "kernelspec": {
      "name": "python3",
      "display_name": "Python 3"
    }
  },
  "cells": [
    {
      "cell_type": "markdown",
      "metadata": {
        "id": "ynceoz2CTbU-"
      },
      "source": [
        "***Tópicos da Aula 3***\n",
        "\n",
        "1) Variáveis\n",
        "\n",
        "2) Operadores"
      ]
    },
    {
      "cell_type": "markdown",
      "metadata": {
        "id": "_OK-jVLXT2y-"
      },
      "source": [
        "----------------------------------------------------------\n",
        "**Variáveis** = são utilizadas para armazenar valores para ser utilizados posteriormente. \n",
        "\n",
        "(Ex.: a = \"Escola de Ensino Técnico do Estado do Pará\")\n",
        "\n",
        "Se quisermos imprimir o valor de uma variável, utilizamos a função ***print()***\n",
        "\n",
        "(Ex¹ print(7) )\n",
        "\n",
        "(Ex² print(a) )\n",
        "\n",
        "----------------------------------------------------------\n",
        "\n",
        "**É importante mencionar que existem algumas regras para uso de variáveis**\n",
        "\n",
        "----------------------------------------------------------"
      ]
    },
    {
      "cell_type": "markdown",
      "metadata": {
        "id": "T9ZZTTC2mnlT"
      },
      "source": [
        "***Variáveis e operadores***"
      ]
    },
    {
      "cell_type": "code",
      "metadata": {
        "id": "20DAKKH0WAOt"
      },
      "source": [
        "# Atribuindo o valor 7 a variável \"a\"\n",
        "a = 7"
      ],
      "execution_count": null,
      "outputs": []
    },
    {
      "cell_type": "code",
      "metadata": {
        "id": "kyM8nP-WWMqN"
      },
      "source": [
        "# Imprimindo o valor da variável \"a\"\n",
        "a"
      ],
      "execution_count": null,
      "outputs": []
    },
    {
      "cell_type": "code",
      "metadata": {
        "id": "eJXmI4c0WVB1"
      },
      "source": [
        "# Imprimindo o valor da variável \"a\"\n",
        "print(a)"
      ],
      "execution_count": null,
      "outputs": []
    },
    {
      "cell_type": "code",
      "metadata": {
        "id": "612JR4-_Wamh"
      },
      "source": [
        "# Atribuindo outro valor na variável \"a\"\n",
        "a = 9"
      ],
      "execution_count": null,
      "outputs": []
    },
    {
      "cell_type": "code",
      "metadata": {
        "id": "eLAQmjzpWbY_"
      },
      "source": [
        "# Imprimindo o novo valor da variável \"a\"\n",
        "print(a)"
      ],
      "execution_count": null,
      "outputs": []
    },
    {
      "cell_type": "code",
      "metadata": {
        "id": "I0llRfeAnqOD"
      },
      "source": [
        "# Não é possível utilizar uma variável que não foi definida (Retorna mensagem de erro)\n",
        "ab1"
      ],
      "execution_count": null,
      "outputs": []
    },
    {
      "cell_type": "code",
      "metadata": {
        "id": "ohEXE_eWWcXv"
      },
      "source": [
        "# Verificando o tipo da variável \"a\"\n",
        "type(a)"
      ],
      "execution_count": null,
      "outputs": []
    },
    {
      "cell_type": "markdown",
      "metadata": {
        "id": "mLHe-3-QXF53"
      },
      "source": [
        "***Definindo múltiplas variáveis***"
      ]
    },
    {
      "cell_type": "code",
      "metadata": {
        "id": "5dTStp4PXKam"
      },
      "source": [
        "aluno1, aluno2, aluno3 = \"José\", \"João Batista\", \"Jeremias\""
      ],
      "execution_count": null,
      "outputs": []
    },
    {
      "cell_type": "code",
      "metadata": {
        "id": "m1emoqg5XTWe"
      },
      "source": [
        "aluno1"
      ],
      "execution_count": null,
      "outputs": []
    },
    {
      "cell_type": "code",
      "metadata": {
        "id": "qAoAVNuoodDt"
      },
      "source": [
        "aluno2"
      ],
      "execution_count": null,
      "outputs": []
    },
    {
      "cell_type": "code",
      "metadata": {
        "id": "p99yMMAxodWd"
      },
      "source": [
        "aluno3"
      ],
      "execution_count": null,
      "outputs": []
    },
    {
      "cell_type": "code",
      "metadata": {
        "id": "ymELSb1sXVVX"
      },
      "source": [
        "servidor1 = professor1 = coordenador1 = \"Raimundo Júnior\""
      ],
      "execution_count": null,
      "outputs": []
    },
    {
      "cell_type": "code",
      "metadata": {
        "id": "TPmg_smdo0Pm"
      },
      "source": [
        "servidor1"
      ],
      "execution_count": null,
      "outputs": []
    },
    {
      "cell_type": "code",
      "metadata": {
        "id": "JYyFVZUVo1ge"
      },
      "source": [
        "professor1"
      ],
      "execution_count": null,
      "outputs": []
    },
    {
      "cell_type": "markdown",
      "metadata": {
        "id": "ogGb_wWxXkQM"
      },
      "source": [
        "***Características de variáveis***"
      ]
    },
    {
      "cell_type": "code",
      "metadata": {
        "id": "1K2VY-wFXpOc"
      },
      "source": [
        "a1 = \"Congresso Brasileiro de Informática na Educação\""
      ],
      "execution_count": null,
      "outputs": []
    },
    {
      "cell_type": "code",
      "metadata": {
        "id": "Pu_TwFX1XthA"
      },
      "source": [
        "print(a1)"
      ],
      "execution_count": null,
      "outputs": []
    },
    {
      "cell_type": "code",
      "metadata": {
        "id": "Fh8YxVlcXxaE"
      },
      "source": [
        "# É retornado uma mensagem de erro, pois o python não permite o início de variável com números\n",
        "1a = \"Congresso Brasileiro de Informática na Educação\""
      ],
      "execution_count": null,
      "outputs": []
    },
    {
      "cell_type": "markdown",
      "metadata": {
        "id": "9y-9SauUpwnF"
      },
      "source": [
        "***Palavras reservadas***"
      ]
    },
    {
      "cell_type": "code",
      "metadata": {
        "id": "ZfhCtdhqX3OW"
      },
      "source": [
        "# Não é possível utilizar palavras reservadas para criar uma variável\n",
        "False = \"Congresso Brasileiro de Informática na Educação\""
      ],
      "execution_count": null,
      "outputs": []
    },
    {
      "cell_type": "markdown",
      "metadata": {
        "id": "zk8KOBZvYJlr"
      },
      "source": [
        "***Trabalhando com múltiplas variáveis***"
      ]
    },
    {
      "cell_type": "code",
      "metadata": {
        "id": "6HZB1MkoYMHI"
      },
      "source": [
        "# Substituir os coeficientes na fórmula do discriminante\n",
        "a = 3\n",
        "b = 2\n",
        "c = 5\n",
        "delta = (pow(b, 2)) - (4*a*c)\n",
        "print(delta)"
      ],
      "execution_count": null,
      "outputs": []
    },
    {
      "cell_type": "markdown",
      "metadata": {
        "id": "p88flAoTYZ5L"
      },
      "source": [
        "***Operação com variáveis***"
      ]
    },
    {
      "cell_type": "code",
      "metadata": {
        "id": "Kt2Oa_sQYf7s"
      },
      "source": [
        "anoAtual = 2020"
      ],
      "execution_count": null,
      "outputs": []
    },
    {
      "cell_type": "code",
      "metadata": {
        "id": "vcSPPkCHYjSb"
      },
      "source": [
        "anoNascimento = 1986"
      ],
      "execution_count": null,
      "outputs": []
    },
    {
      "cell_type": "code",
      "metadata": {
        "id": "xWOlEuOdYszd"
      },
      "source": [
        "anoAtual - anoNascimento"
      ],
      "execution_count": null,
      "outputs": []
    },
    {
      "cell_type": "markdown",
      "metadata": {
        "id": "r_qkOgtHY4KH"
      },
      "source": [
        "***Concatenação de variáveis***"
      ]
    },
    {
      "cell_type": "code",
      "metadata": {
        "id": "hof8OmvQY-hw"
      },
      "source": [
        "nome = \"Steve\""
      ],
      "execution_count": null,
      "outputs": []
    },
    {
      "cell_type": "code",
      "metadata": {
        "id": "Lnl30QztZD9j"
      },
      "source": [
        "sobrenome = \"Jobs\""
      ],
      "execution_count": null,
      "outputs": []
    },
    {
      "cell_type": "code",
      "metadata": {
        "id": "HyILkv1aZIS6"
      },
      "source": [
        "fullName = nome + \" \" + sobrenome\n",
        "print(fullName)"
      ],
      "execution_count": null,
      "outputs": []
    },
    {
      "cell_type": "markdown",
      "metadata": {
        "id": "k3vZjrNgZjYD"
      },
      "source": [
        "Caderno python criado por: Prof. Raimundo Júnior\n",
        "\n",
        "Data: 12 Nov 2020"
      ]
    }
  ]
}