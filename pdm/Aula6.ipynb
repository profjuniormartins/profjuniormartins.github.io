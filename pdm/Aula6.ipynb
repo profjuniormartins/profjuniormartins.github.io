{
  "nbformat": 4,
  "nbformat_minor": 0,
  "metadata": {
    "colab": {
      "name": "Aula6.ipynb",
      "provenance": []
    },
    "kernelspec": {
      "name": "python3",
      "display_name": "Python 3"
    }
  },
  "cells": [
    {
      "cell_type": "markdown",
      "metadata": {
        "id": "ynceoz2CTbU-"
      },
      "source": [
        "***Tópicos da Aula 6***\n",
        "\n",
        "1) Dicionários\n",
        "*   O que são dicionários\n",
        "*   Acessando itens do dicionário\n",
        "*   Dicionários aninhados\n",
        "*   Métodos de dicionários"
      ]
    },
    {
      "cell_type": "markdown",
      "metadata": {
        "id": "_OK-jVLXT2y-"
      },
      "source": [
        "----------------------------------------------------------\n",
        "**Dicionários** = Diferentemente do conceito de sequências utilizados nas strings e e listas, em relação aos dicionários o conceito utilizado é o de mapeamento. Podemos também chamar os dicionários de tabelas de hash.\n",
        "\n",
        "Para construir um dicionário é utilizado chaves {} e os elementos pertencentes a ele são separados por vírgulas.\n",
        "\n",
        "*Ex.: ex1 = {chave1: valor1, chave2: valor2}*\n",
        "\n",
        "O que entendemos por mapeamento? Quer dizer que são uma coleção de objetos armazenados através de chaves, diferentemente das sequências que são armazenados conforma sua posição.\n",
        "\n",
        "----------------------------------------------------------"
      ]
    },
    {
      "cell_type": "markdown",
      "metadata": {
        "id": "T9ZZTTC2mnlT"
      },
      "source": [
        "***Dicionários***"
      ]
    },
    {
      "cell_type": "code",
      "metadata": {
        "id": "20DAKKH0WAOt"
      },
      "source": [
        "# Criando um dicionário\n",
        "jogadores = {\"Brasil\": \"neymar\", \"Argentina\": \"Messi\", \"Portugal\": \"Cristiano Ronaldo\"}"
      ],
      "execution_count": null,
      "outputs": []
    },
    {
      "cell_type": "code",
      "metadata": {
        "id": "kyM8nP-WWMqN"
      },
      "source": [
        "jogadores"
      ],
      "execution_count": null,
      "outputs": []
    },
    {
      "cell_type": "code",
      "metadata": {
        "id": "eJXmI4c0WVB1"
      },
      "source": [
        "jogadores[\"Brasil\"]"
      ],
      "execution_count": null,
      "outputs": []
    },
    {
      "cell_type": "code",
      "metadata": {
        "id": "612JR4-_Wamh"
      },
      "source": [
        "jogadores[\"Argentina\"]"
      ],
      "execution_count": null,
      "outputs": []
    },
    {
      "cell_type": "code",
      "metadata": {
        "id": "iIZcYNCUQheV"
      },
      "source": [
        "jogadores[\"Uruguai\"] = \"Cavani\""
      ],
      "execution_count": null,
      "outputs": []
    },
    {
      "cell_type": "code",
      "metadata": {
        "id": "U5jXVGyDQmVE"
      },
      "source": [
        "print(jogadores)"
      ],
      "execution_count": null,
      "outputs": []
    },
    {
      "cell_type": "code",
      "metadata": {
        "id": "gQ54JFtfQwl6"
      },
      "source": [
        "jogadores.clear()"
      ],
      "execution_count": null,
      "outputs": []
    },
    {
      "cell_type": "code",
      "metadata": {
        "id": "Onrjx24TQ8dF"
      },
      "source": [
        "jogadores"
      ],
      "execution_count": null,
      "outputs": []
    },
    {
      "cell_type": "code",
      "metadata": {
        "id": "5dTStp4PXKam"
      },
      "source": [
        "# criando um novo dicionário\n",
        "escolas = {\"Helvécio Guerreiro\": 1, \"Nicolino\": 2, \"Iracema Givoni\": 3, \"Almir Gabriel\": 4}"
      ],
      "execution_count": null,
      "outputs": []
    },
    {
      "cell_type": "code",
      "metadata": {
        "id": "vAFDQOm-S7X6"
      },
      "source": [
        "print(escolas)"
      ],
      "execution_count": null,
      "outputs": []
    },
    {
      "cell_type": "code",
      "metadata": {
        "id": "m1emoqg5XTWe"
      },
      "source": [
        "len(escolas)"
      ],
      "execution_count": null,
      "outputs": []
    },
    {
      "cell_type": "code",
      "metadata": {
        "id": "qAoAVNuoodDt"
      },
      "source": [
        "escolas.keys()"
      ],
      "execution_count": null,
      "outputs": []
    },
    {
      "cell_type": "code",
      "metadata": {
        "id": "JQKX-whSryAE"
      },
      "source": [
        "escolas.values()"
      ],
      "execution_count": null,
      "outputs": []
    },
    {
      "cell_type": "code",
      "metadata": {
        "id": "ZgP6KAi8r0pZ"
      },
      "source": [
        "escolas.items()"
      ],
      "execution_count": null,
      "outputs": []
    },
    {
      "cell_type": "code",
      "metadata": {
        "id": "Zuk8JXEjsG-o"
      },
      "source": [
        "escolas2 = {\"EETEPA\": 5, \"Adélia Figueira\": 6, \"Lameira Bittencourt\": 7}"
      ],
      "execution_count": null,
      "outputs": []
    },
    {
      "cell_type": "code",
      "metadata": {
        "id": "BkLBNU03sWuf"
      },
      "source": [
        "escolas.update(escolas2)"
      ],
      "execution_count": null,
      "outputs": []
    },
    {
      "cell_type": "code",
      "metadata": {
        "id": "H5ZonJt9tzuz"
      },
      "source": [
        "escolas"
      ],
      "execution_count": null,
      "outputs": []
    },
    {
      "cell_type": "code",
      "metadata": {
        "id": "9bmCvKkNuGNJ"
      },
      "source": [
        "dic1 = {}"
      ],
      "execution_count": null,
      "outputs": []
    },
    {
      "cell_type": "code",
      "metadata": {
        "id": "sn6tAXKcuKae"
      },
      "source": [
        "dic1"
      ],
      "execution_count": null,
      "outputs": []
    },
    {
      "cell_type": "code",
      "metadata": {
        "id": "7qDMfhBMuMFI"
      },
      "source": [
        "dic1[\"Brasil\"] = 1"
      ],
      "execution_count": null,
      "outputs": []
    },
    {
      "cell_type": "code",
      "metadata": {
        "id": "6k-qdHB6upx0"
      },
      "source": [
        "dic1"
      ],
      "execution_count": null,
      "outputs": []
    },
    {
      "cell_type": "code",
      "metadata": {
        "id": "7f49B_JovB5q"
      },
      "source": [
        "dic1[3.1] = \"Python\""
      ],
      "execution_count": null,
      "outputs": []
    },
    {
      "cell_type": "code",
      "metadata": {
        "id": "U0q2sjwMvExa"
      },
      "source": [
        "dic1"
      ],
      "execution_count": null,
      "outputs": []
    },
    {
      "cell_type": "code",
      "metadata": {
        "id": "WUH0kjOJv-lg"
      },
      "source": [
        "a = escolas[\"Adélia Figueira\"]\n",
        "b = escolas[\"Nicolino\"]\n",
        "c = escolas[\"Iracema Givoni\"]"
      ],
      "execution_count": null,
      "outputs": []
    },
    {
      "cell_type": "code",
      "metadata": {
        "id": "2D9GPErgwQLS"
      },
      "source": [
        "a, b, c"
      ],
      "execution_count": null,
      "outputs": []
    },
    {
      "cell_type": "code",
      "metadata": {
        "id": "VrGAHSNIw_ho"
      },
      "source": [
        "# Dicionário de listas"
      ],
      "execution_count": null,
      "outputs": []
    },
    {
      "cell_type": "code",
      "metadata": {
        "id": "BgvRTCI2xBgA"
      },
      "source": [
        "dic2 = {'chave1': 10,'chave2':[10,20,30],'chave3':['corinthians','palmeiras','são paulo']}"
      ],
      "execution_count": null,
      "outputs": []
    },
    {
      "cell_type": "code",
      "metadata": {
        "id": "P4YJ4yZ-3HA-"
      },
      "source": [
        "dic = {'chave1': 10, 'chave2': [10, 20, 30], 'chave3': ['corinthians', 'palmeiras', 'são paulo']}"
      ],
      "execution_count": null,
      "outputs": []
    },
    {
      "cell_type": "code",
      "metadata": {
        "id": "MmJmQIQtxX_x"
      },
      "source": [
        "dic2"
      ],
      "execution_count": null,
      "outputs": []
    },
    {
      "cell_type": "code",
      "metadata": {
        "id": "DIVE9VURxgDq"
      },
      "source": [
        "dic2['chave2']"
      ],
      "execution_count": null,
      "outputs": []
    },
    {
      "cell_type": "code",
      "metadata": {
        "id": "4m0BUSE1xjvX"
      },
      "source": [
        "# acessando um item da lista dentro de um dicionário\n",
        "dic2['chave3'][0].upper()"
      ],
      "execution_count": null,
      "outputs": []
    },
    {
      "cell_type": "code",
      "metadata": {
        "id": "Q0QL22Ngx5QN"
      },
      "source": [
        "# realizando operações com valores dentro de uma lista\n",
        "dic2['chave2'][0] - 2"
      ],
      "execution_count": null,
      "outputs": []
    },
    {
      "cell_type": "markdown",
      "metadata": {
        "id": "ogGb_wWxXkQM"
      },
      "source": [
        "***Trabalhando com dicionários aninhados***"
      ]
    },
    {
      "cell_type": "code",
      "metadata": {
        "id": "1K2VY-wFXpOc"
      },
      "source": [
        "# criando um dicionário aninhado\n",
        "dicAninhado = {'chave1':{'chave2_aninhada':{'chave3_aninhada':'dicionário aninhado em Python'}}}"
      ],
      "execution_count": null,
      "outputs": []
    },
    {
      "cell_type": "code",
      "metadata": {
        "id": "Pu_TwFX1XthA"
      },
      "source": [
        "dicAninhado"
      ],
      "execution_count": null,
      "outputs": []
    },
    {
      "cell_type": "code",
      "metadata": {
        "id": "Fh8YxVlcXxaE"
      },
      "source": [
        "dicAninhado['chave1']['chave2_aninhada']['chave3_aninhada']"
      ],
      "execution_count": null,
      "outputs": []
    },
    {
      "cell_type": "markdown",
      "metadata": {
        "id": "k3vZjrNgZjYD"
      },
      "source": [
        "Caderno python criado por: Prof. Raimundo Júnior\n",
        "\n",
        "Data: 18 Nov 2020"
      ]
    }
  ]
}