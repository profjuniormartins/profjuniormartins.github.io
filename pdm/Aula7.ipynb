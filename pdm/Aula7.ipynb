{
  "nbformat": 4,
  "nbformat_minor": 0,
  "metadata": {
    "colab": {
      "name": "Aula7.ipynb",
      "provenance": []
    },
    "kernelspec": {
      "name": "python3",
      "display_name": "Python 3"
    }
  },
  "cells": [
    {
      "cell_type": "markdown",
      "metadata": {
        "id": "ynceoz2CTbU-"
      },
      "source": [
        "***Tópicos da Aula 7***\n",
        "\n",
        "1) Tuplas\n",
        "*   O que são tuplas\n",
        "*   Métodos básicos de tuplas\n",
        "*   Imutável\n",
        "*   Quando podemos utilizar tuplas?"
      ]
    },
    {
      "cell_type": "markdown",
      "metadata": {
        "id": "_OK-jVLXT2y-"
      },
      "source": [
        "----------------------------------------------------------\n",
        "**Tuplas** = são semelhantes as listas, entretanto as tuplas são imutáveis, assim, não podem ser alteradas. Simplificando, você deve utilizar tuplas quando quiser apresentar informações que não necessitam ser alteradas. Como por exemplo, dias da semana, meses, etc.\n",
        "\n",
        "*Ex.: ex1 = (item1, item2, itemN)*\n",
        "\n",
        "Ao utilizar tuplas você deve estar ciente do propósito que quer alcançar, visto que, essa estrutura de dados possui muitas limitações, e possui poucos métodos para interação.\n",
        "\n",
        "Por fim, você deve utilizar as tuplas se você quer garantir que aquele informação será imutável, fornecendo assim a garantia de integridade da mesma.\n",
        "\n",
        "----------------------------------------------------------"
      ]
    },
    {
      "cell_type": "markdown",
      "metadata": {
        "id": "T9ZZTTC2mnlT"
      },
      "source": [
        "***Tuplas***"
      ]
    },
    {
      "cell_type": "code",
      "metadata": {
        "id": "20DAKKH0WAOt"
      },
      "source": [
        "# Criando uma tupla\n",
        "tupla1 = (\"Brasil\",5.0,\"Macaco\", 6,\"Bicicleta\")"
      ],
      "execution_count": null,
      "outputs": []
    },
    {
      "cell_type": "code",
      "metadata": {
        "id": "kyM8nP-WWMqN"
      },
      "source": [
        "# imprimindo a tupla\n",
        "tupla1"
      ],
      "execution_count": null,
      "outputs": []
    },
    {
      "cell_type": "code",
      "metadata": {
        "id": "612JR4-_Wamh"
      },
      "source": [
        "# não é possível usar a função append()\n",
        "tupla1.append(\"Morango\")"
      ],
      "execution_count": null,
      "outputs": []
    },
    {
      "cell_type": "code",
      "metadata": {
        "id": "iIZcYNCUQheV"
      },
      "source": [
        "# não é possível o comando para deletar itens\n",
        "del tupla1[\"Brasil\"]"
      ],
      "execution_count": null,
      "outputs": []
    },
    {
      "cell_type": "code",
      "metadata": {
        "id": "U5jXVGyDQmVE"
      },
      "source": [
        "# tuplas só podem ter um único item\n",
        "tupla1[0]"
      ],
      "execution_count": null,
      "outputs": []
    },
    {
      "cell_type": "code",
      "metadata": {
        "id": "gQ54JFtfQwl6"
      },
      "source": [
        "tupla1"
      ],
      "execution_count": null,
      "outputs": []
    },
    {
      "cell_type": "code",
      "metadata": {
        "id": "3IvoTMyaPgK6"
      },
      "source": [
        "tupla1(\"Brasil\")"
      ],
      "execution_count": null,
      "outputs": []
    },
    {
      "cell_type": "code",
      "metadata": {
        "id": "046i12z8Pkxk"
      },
      "source": [
        "tupla1"
      ],
      "execution_count": null,
      "outputs": []
    },
    {
      "cell_type": "code",
      "metadata": {
        "id": "Onrjx24TQ8dF"
      },
      "source": [
        "tupla1(\"Helvécio Guerreiro\", 12, \"Nicolino\")"
      ],
      "execution_count": null,
      "outputs": []
    },
    {
      "cell_type": "code",
      "metadata": {
        "id": "FRN7BhGyPMu6"
      },
      "source": [
        "# verificando o tamanho da tupla\n",
        "len(tupla1)"
      ],
      "execution_count": null,
      "outputs": []
    },
    {
      "cell_type": "code",
      "metadata": {
        "id": "MdCVwGQePti3"
      },
      "source": [
        "# Trabalhando com slicing assim como trabalhamos em listas\n",
        "tupla1[1:]"
      ],
      "execution_count": null,
      "outputs": []
    },
    {
      "cell_type": "code",
      "metadata": {
        "id": "5dTStp4PXKam"
      },
      "source": [
        "# verificando indíce de um item na tupla\n",
        "tupla1.index(\"Bicicleta\")"
      ],
      "execution_count": null,
      "outputs": []
    },
    {
      "cell_type": "code",
      "metadata": {
        "id": "vAFDQOm-S7X6"
      },
      "source": [
        "# as tuplas não aceitam atribuição de item\n",
        "tupla1[1] = 2.0"
      ],
      "execution_count": null,
      "outputs": []
    },
    {
      "cell_type": "code",
      "metadata": {
        "id": "m1emoqg5XTWe"
      },
      "source": [
        "# vamos deletar a tupla\n",
        "del tupla1"
      ],
      "execution_count": null,
      "outputs": []
    },
    {
      "cell_type": "code",
      "metadata": {
        "id": "x96StNszDDNX"
      },
      "source": [
        "tupla1"
      ],
      "execution_count": null,
      "outputs": []
    },
    {
      "cell_type": "code",
      "metadata": {
        "id": "qAoAVNuoodDt"
      },
      "source": [
        "# criando uma nova tupla\n",
        "t1 = ('A','B','C')"
      ],
      "execution_count": null,
      "outputs": []
    },
    {
      "cell_type": "code",
      "metadata": {
        "id": "JQKX-whSryAE"
      },
      "source": [
        "t1"
      ],
      "execution_count": null,
      "outputs": []
    },
    {
      "cell_type": "code",
      "metadata": {
        "id": "mweoI7yBRHe5"
      },
      "source": [
        "# Trabalhando com a função list() para converter uma tupla para lista\n",
        "t2 = list(t1)"
      ],
      "execution_count": null,
      "outputs": []
    },
    {
      "cell_type": "code",
      "metadata": {
        "id": "VqyTCpkYRYW7"
      },
      "source": [
        "t2"
      ],
      "execution_count": null,
      "outputs": []
    },
    {
      "cell_type": "code",
      "metadata": {
        "id": "CeW0ORniRb2x"
      },
      "source": [
        "t2.append('D')"
      ],
      "execution_count": null,
      "outputs": []
    },
    {
      "cell_type": "code",
      "metadata": {
        "id": "To_t3hOpSew_"
      },
      "source": [
        "t2"
      ],
      "execution_count": null,
      "outputs": []
    },
    {
      "cell_type": "code",
      "metadata": {
        "id": "OklrZVUHRfKW"
      },
      "source": [
        "# Trabalhando com a função tuple() para converter uma lista para tupla\n",
        "t3 = tuple(t2)"
      ],
      "execution_count": null,
      "outputs": []
    },
    {
      "cell_type": "code",
      "metadata": {
        "id": "ZgP6KAi8r0pZ"
      },
      "source": [
        "t3"
      ],
      "execution_count": null,
      "outputs": []
    },
    {
      "cell_type": "code",
      "metadata": {
        "id": "XAVy9TJSDhXx"
      },
      "source": [
        "t3.append('E')"
      ],
      "execution_count": null,
      "outputs": []
    },
    {
      "cell_type": "code",
      "metadata": {
        "id": "6eFVNrh2Sj7U"
      },
      "source": [
        "t3.append('E')"
      ],
      "execution_count": null,
      "outputs": []
    },
    {
      "cell_type": "code",
      "metadata": {
        "id": "y1nDXelLSn0S"
      },
      "source": [
        "t3"
      ],
      "execution_count": null,
      "outputs": []
    },
    {
      "cell_type": "markdown",
      "metadata": {
        "id": "k3vZjrNgZjYD"
      },
      "source": [
        "Caderno python criado por: Prof. Raimundo Júnior\n",
        "\n",
        "Data: 18 Nov 2020"
      ]
    }
  ]
}