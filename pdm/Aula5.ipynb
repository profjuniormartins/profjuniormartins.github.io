{
  "nbformat": 4,
  "nbformat_minor": 0,
  "metadata": {
    "colab": {
      "name": "Aula5.ipynb",
      "provenance": []
    },
    "kernelspec": {
      "name": "python3",
      "display_name": "Python 3"
    }
  },
  "cells": [
    {
      "cell_type": "markdown",
      "metadata": {
        "id": "ynceoz2CTbU-"
      },
      "source": [
        "***Tópicos da Aula 5***\n",
        "\n",
        "1) Listas\n",
        "*   O que são listas\n",
        "*   Indexação e slice de listas\n",
        "*   Métodos básicos de lista\n",
        "*   Listas aninhadas"
      ]
    },
    {
      "cell_type": "markdown",
      "metadata": {
        "id": "_OK-jVLXT2y-"
      },
      "source": [
        "----------------------------------------------------------\n",
        "**Listas** = Podemos afirmar que são uma versão geral de uma sequência em Python.\n",
        "\n",
        "\n",
        "Diferentemente das Strings, as listas são mutáveis e seus elementos podem ser alterados.\n",
        "\n",
        "\n",
        "Para construir uma lista é utilizado colchetes [] e os elementos pertencentes a lista são separados por vírgulas.\n",
        "\n",
        "(Ex.: cidades = [\"Oriximiná\", \"Óbidos\", \"Santarém\"] )\n",
        "\n",
        "Listas são similares a funcionalidade de vetores e matrizes de outras linguagens. Entretanto, em Python, as listas são mais flexíveis, pois:\n",
        "\n",
        "*   O tamanho das listas não são fixas\n",
        "*   Listas não tem restrições de tipo fixo\n",
        "\n",
        "Uma característica do Python é que a estrutura de dados suporta aninhamento, tornando mais simples a manipulação da estrutura de dados.\n",
        "\n",
        "----------------------------------------------------------"
      ]
    },
    {
      "cell_type": "markdown",
      "metadata": {
        "id": "T9ZZTTC2mnlT"
      },
      "source": [
        "***Criando uma lista***"
      ]
    },
    {
      "cell_type": "code",
      "metadata": {
        "id": "20DAKKH0WAOt"
      },
      "source": [
        "# Criando uma lista\n",
        "praias = [\"Caipuru, Iripixi, Violão\"]"
      ],
      "execution_count": null,
      "outputs": []
    },
    {
      "cell_type": "code",
      "metadata": {
        "id": "kyM8nP-WWMqN"
      },
      "source": [
        "# imprimindo a lista\n",
        "print(praias)"
      ],
      "execution_count": null,
      "outputs": []
    },
    {
      "cell_type": "code",
      "metadata": {
        "id": "eJXmI4c0WVB1"
      },
      "source": [
        "# Criando segunda lista\n",
        "pracas = [\"Centenário\", \"Saudade\", \"Santo Antônio\"]"
      ],
      "execution_count": null,
      "outputs": []
    },
    {
      "cell_type": "code",
      "metadata": {
        "id": "612JR4-_Wamh"
      },
      "source": [
        "# imprimindo a segunda lista\n",
        "print(pracas)"
      ],
      "execution_count": null,
      "outputs": []
    },
    {
      "cell_type": "code",
      "metadata": {
        "id": "iIZcYNCUQheV"
      },
      "source": [
        "pracas[0]"
      ],
      "execution_count": null,
      "outputs": []
    },
    {
      "cell_type": "code",
      "metadata": {
        "id": "U5jXVGyDQmVE"
      },
      "source": [
        "pracas[1]"
      ],
      "execution_count": null,
      "outputs": []
    },
    {
      "cell_type": "code",
      "metadata": {
        "id": "gQ54JFtfQwl6"
      },
      "source": [
        "# criando terceira lista\n",
        "lista3 = [4, 5, \"Brasil\", \"Estados Unidos\"]"
      ],
      "execution_count": null,
      "outputs": []
    },
    {
      "cell_type": "code",
      "metadata": {
        "id": "Onrjx24TQ8dF"
      },
      "source": [
        "print(lista3)"
      ],
      "execution_count": null,
      "outputs": []
    },
    {
      "cell_type": "code",
      "metadata": {
        "id": "UWnORQ-uRU2k"
      },
      "source": [
        "# atribuindo valores da lista a variáveis\n",
        "a = lista3[0]\n",
        "b = lista3[1]\n",
        "c = lista3[2]\n",
        "d = lista3[3]"
      ],
      "execution_count": null,
      "outputs": []
    },
    {
      "cell_type": "code",
      "metadata": {
        "id": "rn1DCu20RifG"
      },
      "source": [
        "# imprimindo o valor das variáveis\n",
        "print(a, b, c, d)"
      ],
      "execution_count": null,
      "outputs": []
    },
    {
      "cell_type": "markdown",
      "metadata": {
        "id": "mLHe-3-QXF53"
      },
      "source": [
        "***Atualizando itens de uma lista***"
      ]
    },
    {
      "cell_type": "code",
      "metadata": {
        "id": "5dTStp4PXKam"
      },
      "source": [
        "# criando nova lista\n",
        "escolas = ['Helvécio Guerreiro', 'Iracema', 'Iracema Givoni', 'Almir Gabriel']"
      ],
      "execution_count": null,
      "outputs": []
    },
    {
      "cell_type": "code",
      "metadata": {
        "id": "vAFDQOm-S7X6"
      },
      "source": [
        "print(escolas)"
      ],
      "execution_count": null,
      "outputs": []
    },
    {
      "cell_type": "code",
      "metadata": {
        "id": "m1emoqg5XTWe"
      },
      "source": [
        "escolas[1] = 'Nicolino'"
      ],
      "execution_count": null,
      "outputs": []
    },
    {
      "cell_type": "code",
      "metadata": {
        "id": "qAoAVNuoodDt"
      },
      "source": [
        "print(escolas)"
      ],
      "execution_count": null,
      "outputs": []
    },
    {
      "cell_type": "markdown",
      "metadata": {
        "id": "ogGb_wWxXkQM"
      },
      "source": [
        "***Deletando itens de uma lista***"
      ]
    },
    {
      "cell_type": "code",
      "metadata": {
        "id": "1K2VY-wFXpOc"
      },
      "source": [
        "# Não é possível deletar itens que não foram incluídos na lista\n",
        "del escolas[4]"
      ],
      "execution_count": null,
      "outputs": []
    },
    {
      "cell_type": "code",
      "metadata": {
        "id": "Pu_TwFX1XthA"
      },
      "source": [
        "print(escolas)"
      ],
      "execution_count": null,
      "outputs": []
    },
    {
      "cell_type": "code",
      "metadata": {
        "id": "Fh8YxVlcXxaE"
      },
      "source": [
        "# retornando o primeiro elemento da string\n",
        "del escolas[3]"
      ],
      "execution_count": null,
      "outputs": []
    },
    {
      "cell_type": "code",
      "metadata": {
        "id": "_mgrEc0Pz8yg"
      },
      "source": [
        "print(escolas)"
      ],
      "execution_count": null,
      "outputs": []
    },
    {
      "cell_type": "markdown",
      "metadata": {
        "id": "9y-9SauUpwnF"
      },
      "source": [
        "***Trabalhando com listas aninhadas***"
      ]
    },
    {
      "cell_type": "code",
      "metadata": {
        "id": "ZfhCtdhqX3OW"
      },
      "source": [
        "# criando uma lista aninhada\n",
        "listas = [['Corinthians','Palmeiras','São Paulo'], ['Paysandu','Remo','Tuna Luso'], ['Flamengo','Vasco','Fluminense']]"
      ],
      "execution_count": null,
      "outputs": []
    },
    {
      "cell_type": "code",
      "metadata": {
        "id": "k1j9Jz7S0cgc"
      },
      "source": [
        "# imprimindo as listas\n",
        "print(listas)"
      ],
      "execution_count": null,
      "outputs": []
    },
    {
      "cell_type": "code",
      "metadata": {
        "id": "V82-TsQM0oCp"
      },
      "source": [
        "# atribuindo um item da lista a uma variável\n",
        "paulistas = listas[0]\n",
        "paraenses = listas[1]\n",
        "cariocas = listas[2]"
      ],
      "execution_count": null,
      "outputs": []
    },
    {
      "cell_type": "code",
      "metadata": {
        "id": "Hm1UIpHs0p8x"
      },
      "source": [
        "print(paulistas)"
      ],
      "execution_count": null,
      "outputs": []
    },
    {
      "cell_type": "code",
      "metadata": {
        "id": "vOmfkvhmVekZ"
      },
      "source": [
        "print(paraenses)"
      ],
      "execution_count": null,
      "outputs": []
    },
    {
      "cell_type": "code",
      "metadata": {
        "id": "NkvbQpQzVgeE"
      },
      "source": [
        "print(cariocas)"
      ],
      "execution_count": null,
      "outputs": []
    },
    {
      "cell_type": "markdown",
      "metadata": {
        "id": "zk8KOBZvYJlr"
      },
      "source": [
        "***Operações com Listas***"
      ]
    },
    {
      "cell_type": "code",
      "metadata": {
        "id": "6HZB1MkoYMHI"
      },
      "source": [
        "# criando uma nova lista aninhada\n",
        "listaNova = [[1,2,3,4],[1,3,5,7],[2,4,6,8]]"
      ],
      "execution_count": null,
      "outputs": []
    },
    {
      "cell_type": "code",
      "metadata": {
        "id": "yLP5-vuW2qBd"
      },
      "source": [
        "listaNova"
      ],
      "execution_count": null,
      "outputs": []
    },
    {
      "cell_type": "code",
      "metadata": {
        "id": "mla9felb2xgw"
      },
      "source": [
        "# atribuindo o primeiro item da primeira lista na variável\n",
        "ListaModificada = listaNova[0][1]"
      ],
      "execution_count": null,
      "outputs": []
    },
    {
      "cell_type": "code",
      "metadata": {
        "id": "24u-p7oL3Dsd"
      },
      "source": [
        "print(ListaModificada)"
      ],
      "execution_count": null,
      "outputs": []
    },
    {
      "cell_type": "code",
      "metadata": {
        "id": "zULuycQo3Rt1"
      },
      "source": [
        "print(ListaModificada*3)"
      ],
      "execution_count": null,
      "outputs": []
    },
    {
      "cell_type": "code",
      "metadata": {
        "id": "tq3wnUC-XhyO"
      },
      "source": [
        "e = listaNova[2][3] // 2"
      ],
      "execution_count": null,
      "outputs": []
    },
    {
      "cell_type": "code",
      "metadata": {
        "id": "R4l3JpeFXymr"
      },
      "source": [
        "e"
      ],
      "execution_count": null,
      "outputs": []
    },
    {
      "cell_type": "markdown",
      "metadata": {
        "id": "p88flAoTYZ5L"
      },
      "source": [
        "***Concatenando lista***"
      ]
    },
    {
      "cell_type": "code",
      "metadata": {
        "id": "Kt2Oa_sQYf7s"
      },
      "source": [
        "listaC = [2,4,6]"
      ],
      "execution_count": null,
      "outputs": []
    },
    {
      "cell_type": "code",
      "metadata": {
        "id": "bSFw34X3YgfF"
      },
      "source": [
        "listaC"
      ],
      "execution_count": null,
      "outputs": []
    },
    {
      "cell_type": "code",
      "metadata": {
        "id": "vcSPPkCHYjSb"
      },
      "source": [
        "listaD = [1,3,5]"
      ],
      "execution_count": null,
      "outputs": []
    },
    {
      "cell_type": "code",
      "metadata": {
        "id": "xWOlEuOdYszd"
      },
      "source": [
        "listaD"
      ],
      "execution_count": null,
      "outputs": []
    },
    {
      "cell_type": "code",
      "metadata": {
        "id": "JZgX5eA74MLo"
      },
      "source": [
        "# concatenando listas\n",
        "listaFinal = listaC + listaD"
      ],
      "execution_count": null,
      "outputs": []
    },
    {
      "cell_type": "code",
      "metadata": {
        "id": "GcBRQnEb4XCW"
      },
      "source": [
        "listaFinal"
      ],
      "execution_count": null,
      "outputs": []
    },
    {
      "cell_type": "markdown",
      "metadata": {
        "id": "r_qkOgtHY4KH"
      },
      "source": [
        "***Utilizando o Operador in***"
      ]
    },
    {
      "cell_type": "code",
      "metadata": {
        "id": "hof8OmvQY-hw"
      },
      "source": [
        "# criando uma lista\n",
        "lista_in = [11,22,33,44,55]"
      ],
      "execution_count": null,
      "outputs": []
    },
    {
      "cell_type": "code",
      "metadata": {
        "id": "Lnl30QztZD9j"
      },
      "source": [
        "# verificando se o valor 33 pertence a lista_in\n",
        "print(33 in lista_in)"
      ],
      "execution_count": null,
      "outputs": []
    },
    {
      "cell_type": "code",
      "metadata": {
        "id": "HyILkv1aZIS6"
      },
      "source": [
        "# verificando se o valor 55 pertence a lista_in\n",
        "print(56 in lista_in)"
      ],
      "execution_count": null,
      "outputs": []
    },
    {
      "cell_type": "markdown",
      "metadata": {
        "id": "7G19oMGn5o7T"
      },
      "source": [
        "***Funções Built-In***"
      ]
    },
    {
      "cell_type": "code",
      "metadata": {
        "id": "c1SKHnwt5siY"
      },
      "source": [
        "# A função len() verifica o tamanho da lista\n",
        "len(lista_in)"
      ],
      "execution_count": null,
      "outputs": []
    },
    {
      "cell_type": "code",
      "metadata": {
        "id": "w1qssi7s5yJs"
      },
      "source": [
        "# A função max() retorna o maior valor existente na lista\n",
        "max(lista_in)"
      ],
      "execution_count": null,
      "outputs": []
    },
    {
      "cell_type": "code",
      "metadata": {
        "id": "cM1VA6DgZ1BS"
      },
      "source": [
        "# A função min() retorna o menor valor existente na lista\n",
        "min(lista_in)"
      ],
      "execution_count": null,
      "outputs": []
    },
    {
      "cell_type": "code",
      "metadata": {
        "id": "5FVeH45xZ9hF"
      },
      "source": [
        "# criando uma nova lista\n",
        "estados = [\"Pará\", \"Amazonas\", \"Roraima\", \"Acre\", \"Tocantins\"]"
      ],
      "execution_count": null,
      "outputs": []
    },
    {
      "cell_type": "code",
      "metadata": {
        "id": "X8QV8ad4dlpc"
      },
      "source": [
        "estados.index(\"Roraima\")"
      ],
      "execution_count": null,
      "outputs": []
    },
    {
      "cell_type": "code",
      "metadata": {
        "id": "Y1MvuRJ0aUq3"
      },
      "source": [
        "# adicionando itens na lista\n",
        "estados.append(\"Rondônia\")"
      ],
      "execution_count": null,
      "outputs": []
    },
    {
      "cell_type": "code",
      "metadata": {
        "id": "Heqe_XyOab9Q"
      },
      "source": [
        "estados"
      ],
      "execution_count": null,
      "outputs": []
    },
    {
      "cell_type": "code",
      "metadata": {
        "id": "6uTxG8r1aooC"
      },
      "source": [
        "estados.append(\"Rondônia\")\n",
        "estados"
      ],
      "execution_count": null,
      "outputs": []
    },
    {
      "cell_type": "code",
      "metadata": {
        "id": "hmLqYKUaastB"
      },
      "source": [
        "estados.count(\"Rondônia\")"
      ],
      "execution_count": null,
      "outputs": []
    },
    {
      "cell_type": "code",
      "metadata": {
        "id": "xypShzEDbMd6"
      },
      "source": [
        "# criando lista vazia\n",
        "new_lista = []"
      ],
      "execution_count": null,
      "outputs": []
    },
    {
      "cell_type": "code",
      "metadata": {
        "id": "HP4AsYzRa2HD"
      },
      "source": [
        "# copiando itens de uma lista para outra\n",
        "for item in estados:\n",
        "  new_lista.append(item)"
      ],
      "execution_count": null,
      "outputs": []
    },
    {
      "cell_type": "code",
      "metadata": {
        "id": "wKqBs5ElbUh2"
      },
      "source": [
        "new_lista"
      ],
      "execution_count": null,
      "outputs": []
    },
    {
      "cell_type": "code",
      "metadata": {
        "id": "YMDQE9wjbkLf"
      },
      "source": [
        "# criando lista cidades\n",
        "cidades = [\"Belém\", \"Manaus\", \"Boa Vista\"]"
      ],
      "execution_count": null,
      "outputs": []
    },
    {
      "cell_type": "code",
      "metadata": {
        "id": "0K9Pa04tb1w0"
      },
      "source": [
        "# adicionando itens no final da lista\n",
        "cidades.extend([\"Palmas\", \"Porto Velho\"])"
      ],
      "execution_count": null,
      "outputs": []
    },
    {
      "cell_type": "code",
      "metadata": {
        "id": "LJwif4Hub9Na"
      },
      "source": [
        "cidades"
      ],
      "execution_count": null,
      "outputs": []
    },
    {
      "cell_type": "code",
      "metadata": {
        "id": "lpJNcZEycRYZ"
      },
      "source": [
        "# inserir um item em uma posição específica\n",
        "cidades.insert(2, \"Rio Branco\")"
      ],
      "execution_count": null,
      "outputs": []
    },
    {
      "cell_type": "code",
      "metadata": {
        "id": "rcG_J0GTcdRt"
      },
      "source": [
        "cidades"
      ],
      "execution_count": null,
      "outputs": []
    },
    {
      "cell_type": "code",
      "metadata": {
        "id": "ucF9ExyQce6J"
      },
      "source": [
        "# removendo um item\n",
        "cidades.remove(\"Manaus\")"
      ],
      "execution_count": null,
      "outputs": []
    },
    {
      "cell_type": "code",
      "metadata": {
        "id": "1bJe8U-4cogR"
      },
      "source": [
        "cidades"
      ],
      "execution_count": null,
      "outputs": []
    },
    {
      "cell_type": "code",
      "metadata": {
        "id": "V74RYGGecpEF"
      },
      "source": [
        "# Mostrar a lista de forma reversa\n",
        "cidades.reverse()"
      ],
      "execution_count": null,
      "outputs": []
    },
    {
      "cell_type": "code",
      "metadata": {
        "id": "wjnXNkWYct78"
      },
      "source": [
        "cidades"
      ],
      "execution_count": null,
      "outputs": []
    },
    {
      "cell_type": "code",
      "metadata": {
        "id": "fXrmdwZdcuy-"
      },
      "source": [
        "cidades.sort()"
      ],
      "execution_count": null,
      "outputs": []
    },
    {
      "cell_type": "code",
      "metadata": {
        "id": "xDRgJqwEdKTW"
      },
      "source": [
        "cidades"
      ],
      "execution_count": null,
      "outputs": []
    },
    {
      "cell_type": "markdown",
      "metadata": {
        "id": "k3vZjrNgZjYD"
      },
      "source": [
        "Caderno python criado por: Prof. Raimundo Júnior\n",
        "\n",
        "Data: 15 Nov 2020"
      ]
    }
  ]
}